{
 "cells": [
  {
   "cell_type": "code",
   "execution_count": null,
   "metadata": {},
   "outputs": [],
   "source": [
    "import pandas as pd\n",
    "import sqlite3\n",
    "import plotly.graph_objects as go\n",
    "from sklearn.impute import SimpleImputer\n",
    "from sklearn.cluster import KMeans\n",
    "from sklearn.preprocessing import StandardScaler\n",
    "import numpy as np\n",
    "import plotly.express as px\n",
    "\n",
    "\n",
    "\n",
    "\n",
    "# Connect to the SQLite database\n",
    "db_path = \"database.sqlite\"\n",
    "conn = sqlite3.connect(db_path)\n",
    "\n",
    "# Inspect table relationships\n",
    "def fetch_data(query):\n",
    "    return pd.read_sql_query(query, conn)\n",
    "\n",
    "player_attributes = fetch_data(\"SELECT * FROM Player_Attributes\")\n",
    "team_attributes = fetch_data(\"SELECT * FROM Team_Attributes\")\n",
    "match_data = fetch_data(\"SELECT * FROM Match\")\n",
    "player_data = fetch_data(\"SELECT * FROM Player\")\n",
    "league_data = fetch_data(\"SELECT * FROM League\")\n",
    "country_data = fetch_data(\"SELECT * FROM Country\")\n",
    "team_data = fetch_data(\"SELECT * FROM Team\")\n",
    "\n",
    "# Display table relationships\n",
    "print(\"Player Attributes Sample:\", player_attributes.head())\n",
    "print(\"Team Attributes Sample:\", team_attributes.head())\n",
    "print(\"Match Data Sample:\", match_data.head())\n",
    "print(\"Player Data Sample:\", player_data.head())\n",
    "print(\"League Data Sample:\", league_data.head())\n",
    "print(\"Country Data Sample:\", country_data.head())\n",
    "print(\"Team Data Sample:\", team_data.head())"
   ]
  },
  {
   "cell_type": "code",
   "execution_count": null,
   "metadata": {},
   "outputs": [],
   "source": [
    "# Merge player and player attributes\n",
    "df_players = player_attributes.merge(player_data, on=\"player_api_id\", how=\"inner\")\n",
    "\n",
    "# Merge match data with league and country context\n",
    "league_data = league_data.rename(columns={'id': 'league_id', 'name': 'league_name'})\n",
    "country_data = country_data.rename(columns={'id': 'country_id', 'name': 'country_name'})\n",
    "\n",
    "match_data = match_data.merge(league_data, on=\"league_id\", how=\"left\")\n",
    "match_data = match_data.merge(country_data, left_on=\"league_id\", right_on=\"country_id\", how=\"left\")\n",
    "\n",
    "# Merge match data with team information\n",
    "team_data = team_data.rename(columns={\"team_api_id\": \"team_id\", \"team_long_name\": \"team_name\"})\n",
    "match_data = match_data.merge(team_data, left_on=\"home_team_api_id\", right_on=\"team_id\", how=\"left\")\n",
    "match_data.rename(columns={\"team_name\": \"home_team_name\"}, inplace=True)\n",
    "match_data = match_data.merge(team_data, left_on=\"away_team_api_id\", right_on=\"team_id\", how=\"left\")\n",
    "match_data.rename(columns={\"team_name\": \"away_team_name\"}, inplace=True)\n",
    "\n",
    "# Display consolidated data\n",
    "print(\"Consolidated Player Data:\", df_players.head())\n",
    "print(\"Consolidated Match Data:\", match_data.head())"
   ]
  },
  {
   "cell_type": "code",
   "execution_count": null,
   "metadata": {},
   "outputs": [],
   "source": [
    "\n",
    "# Impute missing values in critical columns for players\n",
    "imputer = SimpleImputer(strategy=\"mean\")\n",
    "columns_to_impute = [\"overall_rating\", \"potential\", \"height\", \"weight\"]\n",
    "df_players[columns_to_impute] = imputer.fit_transform(df_players[columns_to_impute])\n",
    "\n",
    "# Impute missing values for team attributes\n",
    "team_imputer = SimpleImputer(strategy=\"most_frequent\")\n",
    "team_attributes = team_attributes.fillna(method=\"ffill\")\n",
    "team_attributes = team_attributes[[\"team_fifa_api_id\", \"buildUpPlaySpeed\", \"chanceCreationPassing\", \"defenceAggression\"]]\n",
    "\n",
    "# Impute missing values for match data\n",
    "match_imputer = SimpleImputer(strategy=\"mean\")\n",
    "match_data[\"home_team_goal\"] = match_imputer.fit_transform(match_data[[\"home_team_goal\"]])\n",
    "match_data[\"away_team_goal\"] = match_imputer.fit_transform(match_data[[\"away_team_goal\"]])\n",
    "\n",
    "# Standardize formats\n",
    "columns_to_normalize = [\"overall_rating\", \"potential\", \"height\", \"weight\"]\n",
    "df_players[columns_to_normalize] = df_players[columns_to_normalize].apply(lambda x: (x - x.mean()) / x.std())"
   ]
  },
  {
   "cell_type": "code",
   "execution_count": null,
   "metadata": {},
   "outputs": [],
   "source": [
    "# Check if 'season' exists, and create it if necessary\n",
    "if \"season\" not in df_players.columns:\n",
    "    if \"date\" in df_players.columns:\n",
    "        df_players[\"season\"] = pd.to_datetime(df_players[\"date\"]).dt.year\n",
    "    else:\n",
    "        raise KeyError(\"The 'season' column is missing, and no date column is available to derive it.\")\n",
    "\n",
    "# Define a performance metric\n",
    "df_players[\"performance_score\"] = df_players[\"overall_rating\"] * 0.5 + df_players[\"potential\"] * 0.5\n",
    "\n",
    "# Extract top 5 best performers by season\n",
    "best_players = (\n",
    "    df_players.groupby([\"season\", \"player_name\"], as_index=False)[\"performance_score\"]\n",
    "    .max()\n",
    "    .sort_values([\"season\", \"performance_score\"], ascending=[True, False])\n",
    ")\n",
    "\n",
    "# Keep only the top 5 players per season\n",
    "top_players_per_season = best_players.groupby(\"season\").head(5)\n",
    "\n",
    "# Initialize the figure\n",
    "fig = go.Figure()\n",
    "\n",
    "# Loop through each season and plot the data\n",
    "for season in top_players_per_season[\"season\"].unique():\n",
    "    season_data = top_players_per_season[top_players_per_season[\"season\"] == season]\n",
    "    fig.add_trace(\n",
    "        go.Bar(\n",
    "            x=season_data[\"player_name\"],\n",
    "            y=season_data[\"performance_score\"],\n",
    "            name=str(season),\n",
    "        )\n",
    "    )\n",
    "\n",
    "# Update layout for readability\n",
    "fig.update_layout(\n",
    "    title=\"Top 5 Performers by Season\",\n",
    "    xaxis_title=\"Players\",\n",
    "    yaxis_title=\"Performance Score\",\n",
    "    barmode=\"group\",\n",
    "    xaxis_tickangle=-45,\n",
    "    height=500,\n",
    "    width=1000\n",
    ")\n",
    "fig.update_layout(\n",
    "template = 'plotly_dark')\n",
    "fig.show()\n"
   ]
  },
  {
   "cell_type": "code",
   "execution_count": null,
   "metadata": {},
   "outputs": [],
   "source": [
    "\n",
    "# Step 1: Drop NaNs from performance_score\n",
    "valid_players = df_players.dropna(subset=[\"performance_score\"])\n",
    "\n",
    "# Step 2: Filter players with at least 2 records\n",
    "players_with_multiple_scores = valid_players.groupby(\"player_name\").filter(lambda x: len(x) > 1)\n",
    "\n",
    "# Step 3: Calculate Mean Absolute Deviation (MAD) and scale it\n",
    "consistency = (\n",
    "    players_with_multiple_scores.groupby(\"player_name\")[\"performance_score\"]\n",
    "    .apply(lambda x: (x - x.mean()).abs().mean())\n",
    "    .sort_values()\n",
    ")\n",
    "\n",
    "# Step 4: Filter players with meaningful MAD (> small threshold)\n",
    "consistency_filtered = consistency[consistency > 0.01]  # Threshold to exclude near-zero values\n",
    "\n",
    "# Step 5: Scale MAD values for better visualization (optional step)\n",
    "consistency_scaled = consistency_filtered * 100  # Scale MAD for clarity\n",
    "\n",
    "# Step 6: Select top 10 most consistent players\n",
    "consistent_players = consistency_scaled.head(10)\n",
    "\n",
    "# Debug Output\n",
    "print(\"Top 10 Most Consistent Players with MAD:\")\n",
    "print(consistent_players)\n",
    "\n",
    "# Step 7: Plot the graph\n",
    "fig = go.Figure()\n",
    "fig.add_trace(\n",
    "    go.Bar(\n",
    "        x=consistent_players.index,\n",
    "        y=consistent_players.values,\n",
    "        marker_color=\"springgreen\"\n",
    "    )\n",
    ")\n",
    "fig.update_layout(\n",
    "    title=\"Most Consistent Players (Based on Mean Absolute Deviation)\",\n",
    "    xaxis_title=\"Players\",\n",
    "    yaxis_title=\"Consistency (Low MAD, Scaled)\",\n",
    "    xaxis_tickangle=-45,\n",
    "    height=500,\n",
    "    width=1000,\n",
    ")\n",
    "fig.update_layout(\n",
    "template = 'plotly_dark')\n",
    "fig.show()\n"
   ]
  },
  {
   "cell_type": "code",
   "execution_count": null,
   "metadata": {},
   "outputs": [],
   "source": [
    "# Calculate wins, losses, and draws for each team\n",
    "match_data[\"result\"] = match_data[\"home_team_goal\"] - match_data[\"away_team_goal\"]\n",
    "match_data[\"home_win\"] = match_data[\"result\"] > 0\n",
    "match_data[\"away_win\"] = match_data[\"result\"] < 0\n",
    "\n",
    "dominating_teams = (\n",
    "    match_data.groupby(\"home_team_name\")[\"home_win\"].sum() +\n",
    "    match_data.groupby(\"away_team_name\")[\"away_win\"].sum()\n",
    ").sort_values(ascending=False)\n",
    "fig = go.Figure()\n",
    "fig.add_trace(go.Bar(x=dominating_teams.index[:10], y=dominating_teams.values[:10]))\n",
    "fig.update_layout(title=\"Top Dominating Teams\", xaxis_title=\"Teams\", yaxis_title=\"Wins\")\n",
    "fig.update_layout(\n",
    "template = 'plotly_dark')\n",
    "fig.show()"
   ]
  },
  {
   "cell_type": "code",
   "execution_count": null,
   "metadata": {},
   "outputs": [],
   "source": [
    "\n",
    "# Filter out non-numeric ID columns\n",
    "numeric_team_attributes = team_attributes.select_dtypes(include=[\"number\"]).drop(columns=[\"team_fifa_api_id\"], errors=\"ignore\")\n",
    "\n",
    "# Calculate descriptive statistics\n",
    "team_metrics = numeric_team_attributes.describe()\n",
    "\n",
    "# Plot the updated team metrics\n",
    "fig = go.Figure()\n",
    "fig.add_trace(go.Bar(x=team_metrics.columns, y=team_metrics.loc[\"mean\"], name=\"Mean\", marker_color=\"yellow\"))\n",
    "fig.add_trace(go.Bar(x=team_metrics.columns, y=team_metrics.loc[\"std\"], name=\"Std Dev\", marker_color=\"tomato\"))\n",
    "\n",
    "fig.update_layout(\n",
    "    title=\"Team Metrics Summary (Excluding ID Columns)\",\n",
    "    barmode=\"group\",\n",
    "    xaxis_title=\"Metrics\",\n",
    "    yaxis_title=\"Values\",\n",
    "    height=500,\n",
    "    width=1000\n",
    ")\n",
    "fig.update_layout(\n",
    "template = 'plotly_dark')\n",
    "fig.show()"
   ]
  },
  {
   "cell_type": "code",
   "execution_count": null,
   "metadata": {},
   "outputs": [],
   "source": [
    "\n",
    "# Calculate total goals for each match\n",
    "match_data[\"total_goals\"] = match_data[\"home_team_goal\"] + match_data[\"away_team_goal\"]\n",
    "\n",
    "# Sort matches by total goals and select the top 10\n",
    "high_scoring_matches = match_data.sort_values(by=\"total_goals\", ascending=False).head(10)\n",
    "\n",
    "# Plot high-scoring matches\n",
    "fig = go.Figure()\n",
    "fig.add_trace(go.Bar(\n",
    "    x=high_scoring_matches[\"home_team_name\"] + \" vs \" + high_scoring_matches[\"away_team_name\"],\n",
    "    y=high_scoring_matches[\"total_goals\"],\n",
    "    name=\"Total Goals\",\n",
    "    marker_color=\"fuchsia\"\n",
    "))\n",
    "\n",
    "# Update layout\n",
    "fig.update_layout(\n",
    "    title=\"Top 10 High Scoring Matches\",\n",
    "    xaxis_title=\"Match (Home vs Away)\",\n",
    "    yaxis_title=\"Total Goals\",\n",
    "    xaxis_tickangle=-45,\n",
    "    height=500,\n",
    "    width=1000\n",
    ")\n",
    "fig.update_layout(\n",
    "template = 'plotly_dark')\n",
    "\n",
    "fig.show()"
   ]
  },
  {
   "cell_type": "markdown",
   "metadata": {},
   "source": [
    "#### **Compare Home and Away Performance**"
   ]
  },
  {
   "cell_type": "code",
   "execution_count": null,
   "metadata": {},
   "outputs": [],
   "source": [
    "home_performance = match_data.groupby(\"home_team_name\")[\"home_team_goal\"].mean()\n",
    "away_performance = match_data.groupby(\"away_team_name\")[\"away_team_goal\"].mean()\n",
    "fig = go.Figure()\n",
    "fig.add_trace(go.Bar(x=home_performance.index[:10], y=home_performance.values[:10], name=\"Home Performance\"))\n",
    "fig.add_trace(go.Bar(x=away_performance.index[:10], y=away_performance.values[:10], name=\"Away Performance\"))\n",
    "fig.update_layout(title=\"Home vs Away Performance\", barmode=\"group\", xaxis_title=\"Teams\", yaxis_title=\"Average Goals\", template = 'plotly_dark')\n",
    "fig.show()"
   ]
  },
  {
   "cell_type": "markdown",
   "metadata": {},
   "source": [
    "### **Trend Analysis**\n",
    "\n",
    "#### **Player and Team Performance Trends**"
   ]
  },
  {
   "cell_type": "code",
   "execution_count": null,
   "metadata": {},
   "outputs": [],
   "source": [
    "\n",
    "# Step 1: Group player performance trends\n",
    "player_trends = df_players.groupby(\"season\")[\"performance_score\"].mean()\n",
    "player_trends.index = player_trends.index.astype(str)  # Convert to string\n",
    "\n",
    "# Step 2: Group team performance trends\n",
    "team_trends = (\n",
    "    match_data.groupby(\"season\")[[\"home_team_goal\", \"away_team_goal\"]]\n",
    "    .mean()\n",
    "    .sum(axis=1)  # Sum of average home and away goals\n",
    ")\n",
    "team_trends.index = team_trends.index.astype(str)  # Convert to string\n",
    "\n",
    "# Step 3: Align the indices of both trends\n",
    "all_seasons = sorted(set(player_trends.index).union(set(team_trends.index)))\n",
    "player_trends = player_trends.reindex(all_seasons, fill_value=0)\n",
    "team_trends = team_trends.reindex(all_seasons, fill_value=0)\n",
    "\n",
    "# Debug Output\n",
    "print(\"Aligned Player Trends:\")\n",
    "print(player_trends)\n",
    "\n",
    "print(\"\\nAligned Team Trends:\")\n",
    "print(team_trends)\n",
    "\n",
    "# Step 4: Plot performance trends over seasons\n",
    "fig = go.Figure()\n",
    "\n",
    "# Player Performance Trend\n",
    "fig.add_trace(\n",
    "    go.Scatter(\n",
    "        x=player_trends.index,\n",
    "        y=player_trends.values,\n",
    "        mode=\"lines+markers\",\n",
    "        name=\"Player Performance\",\n",
    "        line=dict(color=\"white\"),\n",
    "    )\n",
    ")\n",
    "\n",
    "# Team Performance Trend\n",
    "fig.add_trace(\n",
    "    go.Scatter(\n",
    "        x=team_trends.index,\n",
    "        y=team_trends.values,\n",
    "        mode=\"lines+markers\",\n",
    "        name=\"Team Performance\",\n",
    "        line=dict(color=\"red\"),\n",
    "    )\n",
    ")\n",
    "\n",
    "# Update layout\n",
    "fig.update_layout(\n",
    "    title=\"Performance Trends Over Seasons\",\n",
    "    xaxis_title=\"Seasons\",\n",
    "    yaxis_title=\"Average Performance / Goals\",\n",
    "    xaxis_tickangle=-45,\n",
    "    height=500,\n",
    "    width=1000,\n",
    ")\n",
    "fig.update_layout(\n",
    "template = 'plotly_dark')\n",
    "fig.show()\n"
   ]
  },
  {
   "cell_type": "markdown",
   "metadata": {},
   "source": [
    "## **3. Clustering**\n",
    "\n",
    "### **Objective**\n",
    "Use clustering techniques to group players and teams based on attributes and styles of play. This will help identify groups with similar characteristics, aiding strategic analysis.\n",
    "\n",
    "### **Player Clustering**\n",
    "\n",
    "#### **Clustering Criteria**"
   ]
  },
  {
   "cell_type": "code",
   "execution_count": null,
   "metadata": {},
   "outputs": [],
   "source": [
    "\n",
    "\n",
    "# Select player attributes for clustering\n",
    "player_features = df_players[[\"overall_rating\", \"potential\", \"height\", \"weight\"]]\n",
    "scaler = StandardScaler()\n",
    "player_features_scaled = scaler.fit_transform(player_features)\n",
    "\n",
    "# Apply K-Means clustering\n",
    "kmeans = KMeans(n_clusters=3, random_state=42)\n",
    "df_players[\"cluster\"] = kmeans.fit_predict(player_features_scaled)\n",
    "\n",
    "# Visualize clustering results\n",
    "fig = px.scatter(df_players, x=\"overall_rating\", y=\"potential\", color=\"cluster\", \n",
    "                 hover_data=[\"player_name\"], title=\"Player Clustering\")\n",
    "fig.update_layout(\n",
    "template = 'plotly_dark')\n",
    "fig.show()"
   ]
  },
  {
   "cell_type": "markdown",
   "metadata": {},
   "source": [
    "#### **Cluster Interpretation**\n",
    "- **Prolific Attackers:** High rating and offensive potential.\n",
    "- **Robust Defenders:** Large size, heavy weight, high defensive ratings.\n",
    "- **Balanced Midfielders:** Well-distributed overall and potential scores.\n"
   ]
  },
  {
   "cell_type": "markdown",
   "metadata": {},
   "source": [
    "### **Team Clustering**\n",
    "\n",
    "#### **Clustering Criteria**"
   ]
  },
  {
   "cell_type": "code",
   "execution_count": null,
   "metadata": {},
   "outputs": [],
   "source": [
    "# Select team attributes for clustering\n",
    "team_features = team_attributes[[\"buildUpPlaySpeed\", \"chanceCreationPassing\", \"defenceAggression\"]]\n",
    "team_features_scaled = scaler.fit_transform(team_features)\n",
    "\n",
    "# Apply K-Means clustering\n",
    "team_kmeans = KMeans(n_clusters=3, random_state=42)\n",
    "team_attributes[\"cluster\"] = team_kmeans.fit_predict(team_features_scaled)\n",
    "\n",
    "# Visualize clustering results\n",
    "fig = px.scatter_3d(team_attributes, x=\"buildUpPlaySpeed\", y=\"chanceCreationPassing\", z=\"defenceAggression\", \n",
    "                    color=\"cluster\", title=\"Team Clustering\")\n",
    "\n",
    "# Adjust the size of the plot\n",
    "fig.update_layout(\n",
    "    width=1000,  # Set the width of the plot\n",
    "    height=600,  # Set the height of the plot\n",
    "    template=\"plotly_dark\"  # Apply dark theme\n",
    ")\n",
    "\n",
    "fig.show()"
   ]
  },
  {
   "cell_type": "markdown",
   "metadata": {},
   "source": [
    "#### **Cluster Interpretation**\n",
    "- **Offensive Teams:** High build speed, many goals scored.\n",
    "- **Defensive Teams:** High defensive pressure, few goals conceded.\n",
    "- **Balanced Teams:** Moderate metrics, balanced style of play.\n"
   ]
  },
  {
   "cell_type": "markdown",
   "metadata": {},
   "source": [
    "## **4. Clustering Techniques**\n",
    "\n",
    "### **K-Means-Based Approach**\n",
    "- **Advantages:** Simple and efficient for well-separated clusters.\n",
    "- **Application:** Segment players based on physical and performance attributes.\n",
    "\n",
    "### **DBSCAN-Based Approach**\n",
    "- **Advantages:** Ideal for identifying atypical players or teams.\n",
    "- **Application:** Detect exceptional talent or unique team styles.\n"
   ]
  },
  {
   "cell_type": "markdown",
   "metadata": {},
   "source": [
    "## **5. Presentation of Results**\n",
    "\n",
    "### **Summary Tables**"
   ]
  },
  {
   "cell_type": "code",
   "execution_count": null,
   "metadata": {},
   "outputs": [],
   "source": [
    "# Rankings of the best players, teams, and matches\n",
    "best_players = df_players.nlargest(30, \"performance_score\")[[\"player_name\", \"performance_score\"]]\n",
    "print(\"Top 10 Players:\")\n",
    "best_players.head(30)"
   ]
  },
  {
   "cell_type": "code",
   "execution_count": null,
   "metadata": {},
   "outputs": [],
   "source": [
    "dominating_teams = (\n",
    "    match_data.groupby(\"home_team_name\")[\"home_win\"].sum() +\n",
    "    match_data.groupby(\"away_team_name\")[\"away_win\"].sum()\n",
    ").sort_values(ascending=False)\n",
    "dominating_teams.head(10)"
   ]
  },
  {
   "cell_type": "code",
   "execution_count": null,
   "metadata": {},
   "outputs": [],
   "source": [
    "high_scoring_matches = match_data.nlargest(10, [\"home_team_goal\", \"away_team_goal\"])\n",
    "print(\"Top 10 High Scoring Matches:\")\n",
    "high_scoring_matches.head()"
   ]
  },
  {
   "cell_type": "markdown",
   "metadata": {},
   "source": [
    "### **Graphs and Visualizations**\n",
    "\n",
    "#### **Team Performance Comparisons**"
   ]
  },
  {
   "cell_type": "code",
   "execution_count": null,
   "metadata": {},
   "outputs": [],
   "source": [
    "fig = go.Figure()\n",
    "fig.add_trace(go.Bar(x=dominating_teams.index, y=dominating_teams.values))\n",
    "fig.update_layout(title=\"Top Dominating Teams\", xaxis_title=\"Teams\", yaxis_title=\"Wins\", template='plotly_dark')\n",
    "fig.show()"
   ]
  },
  {
   "cell_type": "markdown",
   "metadata": {},
   "source": [
    "#### **Player or Team Clusters**"
   ]
  },
  {
   "cell_type": "code",
   "execution_count": null,
   "metadata": {},
   "outputs": [],
   "source": [
    "fig = px.scatter(df_players, x=\"overall_rating\", y=\"potential\", color=\"cluster\",  color_continuous_scale=\"Inferno\",  # Gradient scale: 'Viridis', 'Bluered', 'Inferno', etc.\n",
    "\n",
    "                 hover_data=[\"player_name\"], title=\"Player Clustering\")\n",
    "fig.update_layout(template='plotly_dark')\n",
    "\n",
    "fig.show()"
   ]
  },
  {
   "cell_type": "markdown",
   "metadata": {},
   "source": [
    "#### **Seasonal Trends**"
   ]
  },
  {
   "cell_type": "code",
   "execution_count": null,
   "metadata": {},
   "outputs": [],
   "source": [
    "fig = go.Figure()\n",
    "fig.add_trace(go.Scatter(x=player_trends.index, y=player_trends.values, mode=\"lines+markers\", name=\"Player Performance\"))\n",
    "fig.add_trace(go.Scatter(x=team_trends.index, y=team_trends.values, mode=\"lines+markers\", name=\"Team Performance\"))\n",
    "fig.update_layout(title=\"Performance Trends Over Seasons\", xaxis_title=\"Seasons\", yaxis_title=\"Average Performance\", template=\"plotly_dark\")\n",
    "fig.show()"
   ]
  },
  {
   "cell_type": "markdown",
   "metadata": {},
   "source": [
    "### **Key Interpretations**\n",
    "- The clustering results highlight distinct groups of players and teams, such as prolific attackers, robust defenders, and balanced midfielders.\n",
    "- Dominating teams showcase consistently high performance, revealing opportunities for benchmarking.\n",
    "- Seasonal trends provide insight into performance evolution, which can guide training strategies.\n",
    "\n",
    "### **Recommendations**\n",
    "- Focus on nurturing balanced players to maintain versatility across positions.\n",
    "- Prioritize defensive strategies for teams lagging in defensive metrics.\n",
    "- Use clustering insights to tailor coaching and training for specific player groups.\n"
   ]
  },
  {
   "cell_type": "markdown",
   "metadata": {},
   "source": []
  }
 ],
 "metadata": {
  "kernelspec": {
   "display_name": "base",
   "language": "python",
   "name": "python3"
  },
  "language_info": {
   "codemirror_mode": {
    "name": "ipython",
    "version": 3
   },
   "file_extension": ".py",
   "mimetype": "text/x-python",
   "name": "python",
   "nbconvert_exporter": "python",
   "pygments_lexer": "ipython3",
   "version": "3.11.5"
  }
 },
 "nbformat": 4,
 "nbformat_minor": 2
}
